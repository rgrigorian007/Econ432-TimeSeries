{
 "cells": [
  {
   "cell_type": "raw",
   "metadata": {},
   "source": [
    "---\n",
    "title: Econ 432 Homework 3\n",
    "author: \"Richard Grigorian (UID: 505-088-797)\"\n",
    "date: today\n",
    "format: \n",
    "    html:\n",
    "        mainfont: \"Linux Libertine 0\"\n",
    "        fontsize: medium\n",
    "        number-sections: true\n",
    "        number-depth: 3\n",
    "        toc: true\n",
    "        toc-location: left\n",
    "        code-fold: false\n",
    "        html-math-method: katex\n",
    "        embed-resources: false\n",
    "        self-contained-math: false\n",
    "    pdf:\n",
    "        mainfont: Times New Roman\n",
    "        sansfont: Times New Roman\n",
    "        number-sections: True\n",
    "        number-depth: 2\n",
    "        toc: true\n",
    "        toc-depth: 3\n",
    "        toc-title: Contents\n",
    "        shift-heading-level-by: 0\n",
    "        execute:\n",
    "            warning: false\n",
    "            cache: true\n",
    "        code:\n",
    "        code-block-bg: true\n",
    "        code-block-border-left: \"#eeeeee\"\n",
    "        highlight-style: tango\n",
    "jupyter: python3\n",
    "---"
   ]
  },
  {
   "attachments": {},
   "cell_type": "markdown",
   "metadata": {},
   "source": [
    "{{< pagebreak >}}\n",
    "\n",
    "# Part I: Review Questions\n",
    "\n",
    "## Problem 1\n",
    "\n",
    "Let $Y_1$, $Y_2$, $Y_3$, and $Y_4$ be iid $(\\mu,\\sigma^2)$. Let $\\bar{Y} = \\frac{1}{4} \\sum_{t=1}^4 Y_t$.\n",
    "\n",
    "### Part (a)\n",
    "\n",
    "What are the expected value and variance of $\\bar{Y}$?\n",
    "\n",
    "#### Solution\n",
    "\n",
    "We can simply apply the linear proprerty of expectations to find:\n",
    "\n",
    "$$\\mathbb{E} [\\bar{Y}] = \\mathbb{E} \\left[\\frac{1}{4} \\sum_{t=1}^4 Y_t \\right ] = \\frac{1}{4}\\sum_{t=1}^4 \\mathbb{E}[ Y_t]= \\frac{1}{4} 4\\mu = \\mu$$\n",
    "\n",
    "We can also find the variance of the estimator using\n",
    "\n",
    "$$\\operatorname{Var}(\\bar{Y}) = \\frac{\\sigma^2}{n} = \\frac{\\sigma^2}{4}$$\n",
    "\n",
    "### Part (b)\n",
    "\n",
    "Now, consider a different estimator of $\\mu$:\n",
    "$$W = \\frac{1}{8}Y_1 + \\frac{1}{8}Y_2 + \\frac{1}{4}Y_3 + \\frac{1}{2}Y_4$$\n",
    "What are the expected value and variance of $W$?\n",
    "\n",
    "#### Solution\n",
    "\n",
    "Once again, we can simply apply the linear property of expectations to show that:\n",
    "$$\\mathbb{E} [W] = \\mathbb{E} \\left[ \\sum_{t=1}^4 a_t Y_t \\right ] = \\sum_{t=1}^4 a_t \\mathbb{E}[ Y_t]$$\n",
    "where $a_t$ is  weights on each $Y_t$. Substituting for our weights we get\n",
    "$$\\mathbb{E}[W] = \\frac{1}{8}\\mu + \\frac{1}{8}\\mu + \\frac{1}{4}\\mu + \\frac{1}{2}\\mu = \\mu$$\n",
    "Now for variance of our estimator, we apply the variance property of addition to get\n",
    "$$\\operatorname{Var}(W) = \\left( \\frac{1}{8}\\right)^2 \\operatorname{Var}(Y_1) + \\left( \\frac{1}{8}\\right)^2 \\operatorname{Var}(Y_2) + \\left( \\frac{1}{4}\\right)^2 \\operatorname{Var}(Y_3) + \\left( \\frac{1}{2}\\right)^2 \\operatorname{Var}(Y_4) $$\n",
    "where we would typically have a series of covariance terms; however, since the variables are iid, then they are independent and hence the covariances are 0. With this we express the above as\n",
    "$$\\operatorname{Var}(W) = \\frac{\\sigma^2}{64} + \\frac{\\sigma^2}{64} + \\frac{\\sigma^2}{16}  + \\frac{\\sigma^2}{4} = \\frac{11}{32}\\sigma^2$$"
   ]
  },
  {
   "attachments": {},
   "cell_type": "markdown",
   "metadata": {},
   "source": [
    "### Part (c)\n",
    "\n",
    "Which estimator $\\mu$ do you prefer? Fully justify your answer.\n",
    "\n",
    "#### Solution\n",
    "\n",
    "Both estimators $\\bar{Y}$ and $W$ are unbiased since the their expectations are equal to $\\mu$. Therefore, to minimize Mean Squared Error, we want the estimator with the smaller variance. Between the two estimators, $\\bar{Y}$ has a smaller variance since $\\frac{1}{4}\\sigma^2 < \\frac{11}{32}\\sigma^2$. Therefore, we prefer $\\bar{Y}$ as our estimator of $\\mu$."
   ]
  },
  {
   "attachments": {},
   "cell_type": "markdown",
   "metadata": {},
   "source": [
    "## Problem 2\n",
    "\n",
    "Let $Y_1 , Y_2 , Y_3 , \\dots , Y_n$ be iid $(\\mu , \\sigma^2)$ and let $\\bar{Y} = \\frac{1}{n} \\sum_{i=1}^n Y_i$.\n",
    "\n",
    "### Part (a)\n",
    "\n",
    "Define the class of *linear estimator* of $\\mu$ by\n",
    "$$W_a = \\sum_{i=1}^n a_i Y_i$$\n",
    "where $a'_i$ s are constants. What restriction on the $a'_i$ s is needed for $W_a$ to be an unbiased estimator of $\\mu$?\n",
    "\n",
    "#### Solution\n",
    "\n",
    "$W_a$ is an unbiased estimator of $\\mu$ if \n",
    "$$\\sum_{i=1}^n a_i = 1$$\n",
    "In other words, the weights of the random variables need to sum to 1."
   ]
  },
  {
   "attachments": {},
   "cell_type": "markdown",
   "metadata": {},
   "source": [
    "### Part (b)\n",
    "\n",
    "Find $\\operatorname{Var}(W_a)$.\n",
    "\n",
    "#### Solution\n",
    "\n",
    "The variance of our estimator is simply\n",
    "$$\\operatorname{Var}(W_a) = \\sum_{i=1}^n a_i^2 \\operatorname{Y_i} = \\sum_{i=1}^n a_i^2 \\sigma^2$$"
   ]
  },
  {
   "attachments": {},
   "cell_type": "markdown",
   "metadata": {},
   "source": [
    "### Part (c)\n",
    "\n",
    "For any numbers $a_i$, $i=1, \\dots, n$, the following inequality holds\n",
    "$$\\left( \\sum_{i=1}^n a_i \\right)^2 \\le n \\sum_{i=1}^n a_i^2$$\n",
    "Use this (and above results) to show that $\\bar{Y}$ is the *best linear unbiased estimator* (BLUE).\n",
    "\n",
    "#### Solution\n",
    "\n",
    "Recall that $\\bar{Y}$ is an evenly weighted average of all of our $Y_i$. Notably, the sum of its weights $a_i$ is equal to one. Hence we call on the variance expression for $\\bar{Y}$ found earlier and use the Markov Inequality to prove the above claim.\n",
    "\\begin{align*}\n",
    "\\operatorname{Var}(\\bar{Y}) &= \\frac{\\sigma^2}{n} \\\\\n",
    " &= \\frac{1}{n} \\left( \\sum_{i=1}^n a_i \\right)^2 \\sigma^2 \\\\\n",
    " &= \\frac{1}{n} \\left(1 \\right)^2 \\sigma^2 \\\\\n",
    " &\\le \\left( \\sum_{i=1}^n a_i^2 \\right)\\sigma^2 = \\operatorname{Var}(W_a) \\tag*{$\\blacksquare$}\n",
    "\\end{align*}\n",
    "\n",
    "Hence, using the Markov Inequality, we have shown that $\\bar{Y}$ has a variance that is less than or equal to that of $W_a$ despite both being unbiased. Hence, it is the *best linear unbiased estimator* of $\\mu$."
   ]
  },
  {
   "attachments": {},
   "cell_type": "markdown",
   "metadata": {},
   "source": [
    "## Problem 3\n",
    "\n",
    "Consider the constant expected return model\n",
    "$$ r_{it} = \\mu_i + \\varepsilon_{it} \\quad t=1, \\dots, T; \\quad i=1 \\ (GS), \\ 2 \\ (AIG)$$\n",
    "$$ \\varepsilon_{it} \\sim \\text{iid} \\ N(0, \\sigma^2_i), \\quad \\operatorname{cov}(\\varepsilon_{1t}, \\varepsilon_{2t}) = \\sigma{12}, \\quad \\operatorname{cor}(\\varepsilon_{1t}, \\varepsilon_{2t}) = \\rho_{12}$$\n",
    "for the monthly cc returns on GS (Goldman Sachs) and AIG (American International Group). The estimates (rounded for computations) are given (T = 100):\n",
    "\n",
    "| | GS | AIG | | GS \\& AIG |\n",
    "|:---:|:---:|:---:|:---:|:---:|\n",
    "|$\\hat{\\mu}_i$| 0.01 | -0.03 | $\\hat{\\sigma}_{12}$ | 0.01 |\n",
    "|$\\hat{\\sigma}_i$ | 0.1 | 0.3 | $\\hat{\\rho}_{12}$ | 0.4 |"
   ]
  },
  {
   "attachments": {},
   "cell_type": "markdown",
   "metadata": {},
   "source": [
    "### Part (a)\n",
    "\n",
    "For both GS and AIG cc returns, compute (asymptotic) 95\\% CI for $\\mu_i$ and $\\sigma^2_i$.\n",
    "\n",
    "#### Solution\n",
    "\n",
    "The asymoptotic 95\\% CI for $\\mu_i$ is formulated as:\n",
    "\\begin{align*}\n",
    "\\hat{\\mu}_i &\\pm t_c \\cdot \\operatorname{SE}(\\hat{\\mu}_i) \\\\\n",
    "&\\pm 1.96 \\cdot \\frac{\\hat{\\sigma}_i}{\\sqrt{T}}\n",
    "\\end{align*}\n",
    "We can then substitute in our values from the above table to get\n",
    "$$ 95\\% \\ \\operatorname{CI} \\ [\\mu_{GS}]: \\quad 0.01 \\pm 1.96 \\cdot \\frac{0.1}{\\sqrt{100}} = [-0.0096 \\ , \\ 0.0296]$$\n",
    "$$ 95\\% \\ \\operatorname{CI} \\ [\\mu_{AIG}]: \\quad -0.03 \\pm 1.96 \\cdot \\frac{0.3}{\\sqrt{100}} = [-0.0888 \\ , \\ 0.0288]$$\n",
    "In a similar fashion, we can constructed the 95\\% CI for $\\sigma^2_i$:\n",
    "\\begin{align*}\n",
    "\\hat{\\sigma^2}_i &\\pm t_c \\cdot \\operatorname{SE}(\\hat{\\sigma}^2_i) \\\\\n",
    "&\\pm 1.96 \\cdot \\frac{\\sqrt{2}  \\ \\hat{\\sigma}^2_i}{\\sqrt{T}}\n",
    "\\end{align*}\n",
    "We can then substitute our values from the above table once more to get\n",
    "$$ 95\\% \\ \\operatorname{CI} \\ [\\sigma^2_{GS}]: \\quad (0.1)^2 \\pm 1.96 \\cdot \\frac{\\sqrt{2} \\ (0.1)^2}{\\sqrt{100}} = [0.0072 \\ , \\ 0.0127]$$\n",
    "$$ 95\\% \\ \\operatorname{CI} \\ [\\sigma^2_{AIG}]: \\quad (0.3)^2 \\pm 1.96 \\cdot \\frac{\\sqrt{2} \\ (0.3)^2}{\\sqrt{100}} = [0.0651 \\ , \\ 0.1149]$$"
   ]
  },
  {
   "attachments": {},
   "cell_type": "markdown",
   "metadata": {},
   "source": [
    "### Part (b)\n",
    "\n",
    "Compute the (asymptotic) 95\\% confidence interval for $\\rho_{12}$.\n",
    "\n",
    "#### Solution\n",
    "\n",
    "We will use the fact that $\\operatorname{SE} \\ (\\hat{\\rho}_{12}) = \\sqrt{\\frac{1 - \\hat{\\rho}_{12}}{T}}$ to construct our interval as:\n",
    "\\begin{align*}\n",
    "95\\% \\ \\operatorname{CI} \\ [\\rho_{12}]: \\hat{\\rho}_{12} &\\pm t_c \\cdot \\operatorname{SE}(\\hat{\\rho}_{12}) \\\\\n",
    "&\\pm 1.96 \\cdot \\sqrt{\\frac{1 - \\hat{\\rho}_{12}}{T}} \\\\\n",
    "0.4 &\\pm 1.96 \\cdot \\sqrt{\\frac{1 - 0.4}{100}} =  [0.2204 \\ , \\ 0.5796]\n",
    "\\end{align*}"
   ]
  },
  {
   "attachments": {},
   "cell_type": "markdown",
   "metadata": {},
   "source": [
    "### Part (c)\n",
    "\n",
    "Test the hypothesis (significance tests) for $i=1,2$ with 5\\% significance level,\n",
    "$$H_0 \\ : \\ \\mu_i = 0 \\quad \\text{v.s.} \\quad H_1 \\ : \\ \\mu_i \\neq 0$$\n",
    "Are expected returns of these assets (statistically) different from zero? Justify your answer.\n",
    "\n",
    "#### Solution\n",
    "\n",
    "We compute the t-statistic:\n",
    "$$t_{GS} = \\left| \\frac{\\hat{\\mu}_{GS} - \\mu_i}{\\operatorname{SE}(\\hat{\\mu}_{GS})} \\right| = \\frac{0.01}{0.01} = 1 < 1.9842 = q_{0.975}^{T(99)}$$\n",
    "$$t_{AIG} = \\left| \\frac{\\hat{\\mu}_{AIG} - \\mu_i}{\\operatorname{SE}(\\hat{\\mu}_{AIG})} \\right| = \\frac{0.03}{0.03} = 1 < 1.9842 = q_{0.975}^{T(99)}$$\n",
    "Hence, we **fail to reject the null for both GS and AIG**. We cannot say that expected returns for these assets are statistically significantly different from zero since their t-statistics are smaller than the t-critical values."
   ]
  },
  {
   "attachments": {},
   "cell_type": "markdown",
   "metadata": {},
   "source": [
    "### Part (d)\n",
    "\n",
    "Test the hypothesis (significance tests) for $i=1,2$ with 5\\% significance level,\n",
    "$$H_0 \\ : \\ \\sigma_i^2 = 0.0225 \\quad \\text{v.s.} \\quad H_1 \\ : \\ \\sigma_i^2 \\neq 0.0225$$\n",
    "\n",
    "#### Solution\n",
    "\n",
    "By a very similar process, we compute the t-statistics:\n",
    "$$t_{GS} = \\left| \\frac{\\hat{\\sigma}^2_{GS} - \\sigma^2_i}{\\sqrt{2} \\hat{\\sigma}^2_{GS} / \\sqrt{T}} \\right| = \\frac{(0.1)^2 - 0.0225}{\\sqrt{2} (0.1)^2 / 10} = 8.84 > 1.96 = q_{0.975}^{Z}$$\n",
    "$$t_{AIG} = \\left| \\frac{\\hat{\\sigma}^2_{AIG} - \\sigma^2_i}{\\sqrt{2} \\hat{\\sigma}^2_{AIG} / \\sqrt{T}} \\right| = \\frac{(0.3)^2 - 0.0225}{\\sqrt{2} (0.3)^2 / 10} = 5.30 > 1.96 = q_{0.975}^{Z}$$\n",
    "Therefore, we **reject the null for both GS and AIG**. Since the t-stats are greater than the necessary critical scores, we say that the variance for these assets is statistically significantly different from 0.0225."
   ]
  },
  {
   "attachments": {},
   "cell_type": "markdown",
   "metadata": {},
   "source": [
    "## Problem 4\n",
    "\n",
    "Suppose we have an i.i.d sample $\\{X_1, \\dots, X_T \\} with mean $\\mu$ and finite varaince $\\sigma^2$. Show that the sample variance\n",
    "$$\\hat{\\sigma}^2 = (T-1)^{-1} \\sum_{t=1}^T (X_t - \\hat{\\mu})^2$$\n",
    "is an unbiased estimator of $\\sigma^2$ where $\\hat{\\mu} = T^{-1}\\sum_{t=1}^T X_t$.\n",
    "\n",
    "#### Solution\n",
    "\n",
    "To prove unbiasedness, we want to show that $\\mathbb{E}\\big[\\hat{\\sigma}^2 \\big] = \\sigma^2$.\n",
    "\n",
    "*Proof*\n",
    "\n",
    "Using the expectation definition of variance $\\operatorname{Var}(X) = \\mathbb{E}[X^2] - \\mathbb{E}[X]^2$, we re-write our variance expression as\n",
    "$$\\hat{\\sigma}^2 = \\frac{T}{T-1} \\left( \\frac{1}{T} \\sum_{t=1}^T X_t^2 - \\hat{\\mu}^2 \\right)$$\n",
    "Then, by properties of our random variable $X_t$.\n",
    "$$\\mathbb{E} \\big[ \\hat{\\mu}^2 \\big] = \\operatorname{Var}(\\hat[\\mu]) + \\mathbb{E}\\big[ \\hat{\\mu} \\big]^2 = \\frac{\\sigma^2}{T} + \\mu^2$$\n",
    "We can now take the expectation of our sample variance expression to show that\n",
    "\\begin{align*}\n",
    "\\mathbb{E}\\big[\\hat{\\sigma}^2 \\big] &= \\frac{T}{T-1} \\mathbb{E} \\left[\\frac{1}{T} \\sum_{t=1}^T X_t^2 - \\hat{\\mu}^2 \\right] \\\\\n",
    "&= \\frac{T}{T-1} \\left( T^{-1} \\sum_{t=1}^T \\mathbb{E}\\big[ X_i^2 \\big] - \\mathbb{E} \\big[ \\hat{\\mu}^2 \\big]\\right) \\\\\n",
    "&= \\frac{T}{T-1} \\left( \\mathbb{E}\\big[ X_i^2 \\big] - \\left( \\frac{\\sigma^2}{T} + \\mu^2\\right) \\right) \\\\\n",
    "&= \\frac{T}{T-1} \\Bigg( \\mu^2 + \\sigma^2 - \\frac{\\sigma^2}{T} - \\mu^2\\Bigg) \\\\\n",
    "&= \\frac{T}{T-1} \\Bigg( \\frac{T \\sigma^2 - T}{T} \\Bigg) \\\\\n",
    "\\mathbb{E}\\big[\\hat{\\sigma}^2 \\big] &= \\sigma^2 \\tag*{$\\blacksquare$}\n",
    "\\end{align*}"
   ]
  },
  {
   "attachments": {},
   "cell_type": "markdown",
   "metadata": {},
   "source": [
    "## Problem 5\n",
    "\n",
    "Suppose that $\\hat{\\theta}$ is an estimator of $\\theta$ constructed using a random sample with sample size $T$. Which of the following statements are correct?\n",
    "\n",
    "### Part (a)\n",
    "\n",
    "If $Bias(\\hat{\\theta}, \\theta) \\to 0$ as $T \\to \\infty$, then $\\hat{\\theta}$ is a consistent estimator of $\\theta$.\n",
    "\n",
    "#### Solution\n",
    "\n",
    "**False!** Essentially, we want to show that there exists an estimator that is unbiased but that is also inconsistent. An example of this is the first observation $X_1$ of $\\{ X_1, \\dots, X_T \\} \\sim \\ \\text{i.i.d.} \\ N(\\mu,1)$. If we use this to estimate the unkown parameter $\\mu$, then we will define $\\hat{\\theta} \\equiv X_1$ and $\\theta \\equiv \\mu$. Hence, with this example, it is clear that the expectation of $X_1$ is just $\\mu$. So it is unbiased. However, it is also inconsistent since\n",
    "$$\\lim_{T\\to \\infty} \\mathbb{P}(|\\hat{\\theta}-\\theta|>\\varepsilon) \\neq 0 \\ \\forall \\varepsilon > 0$$"
   ]
  },
  {
   "attachments": {},
   "cell_type": "markdown",
   "metadata": {},
   "source": [
    "### Part (b)\n",
    "\n",
    "If $Var(\\hat{\\theta}) \\to 0$ as $T \\to \\infty$, then $\\hat{\\theta}$ is a consistent estimator of 0.\n",
    "\n",
    "#### Solution\n",
    "\n",
    "**False!** Using the same example as in part (a). If we let $\\hat{\\theta} \\equiv X_1 /T$, then $Var(\\hat{\\theta}) \\to 0$ as $T \\to \\infty$. This is clear since\n",
    "$$Var(\\hat{\\theta}) = \\frac{Var(X_1)}{T^2}$$\n",
    "which will converge to 0 as $T \\to \\infty$. However, $\\hat{\\theta}$ is not a consistent estimator of $\\theta = \\mu$ unless $\\mu=0$."
   ]
  },
  {
   "attachments": {},
   "cell_type": "markdown",
   "metadata": {},
   "source": [
    "### Part (c)\n",
    "\n",
    "If $MSE(\\hat{\\theta}, \\theta) \\to 0$ as $T \\to \\infty$, then $\\hat{\\theta}$ is a consistent estimator of $\\theta$.\n",
    "\n",
    "#### Solution\n",
    "\n",
    "**True!** By the Markov Inequality\n",
    "$$\\mathbb{P}(|\\hat{\\theta} - \\theta| \\ge \\varepsilon) \\le \\frac{\\mathbb{E}[| \\hat{\\theta} - \\theta |^2]}{\\varepsilon^2}$$\n",
    "Since $\\mathbb{E}[| \\hat{\\theta} - \\theta |^2] = MSE(\\hat{\\theta}, \\theta)$ and $\\varepsilon$ is a finite value, we have\n",
    "$$\\mathbb{P}(|\\hat{\\theta} - \\theta| \\ge \\varepsilon) \\to 0 \\ \\text{as} \\ T \\to \\infty$$\n",
    "in view of $MSE(\\hat{\\theta}, \\theta) \\to 0$ as $T \\to \\infty$"
   ]
  },
  {
   "attachments": {},
   "cell_type": "markdown",
   "metadata": {},
   "source": [
    "# Python Exercises\n",
    "\n",
    "## Problem 1\n",
    "\n",
    "Let $X$ and $Y$ be distributed bivariate normal with\n",
    "$$\\mu_X = 0.01, \\ \\mu_Y = 0.05, \\ \\sigma_X = 0.25, \\ \\sigma_Y = 0.15$$\n",
    "\n",
    "### Part (a)\n",
    "\n",
    "Using Python function `multivariate_normal.rvs()`, simulate 100 observations from the bivariate distribution with $\\rho_{XY}=0.99$. Using `plt.scatter()` function, create a scatterplot of the observations and comment on the direction and strength of the lienar association. Using the function `multivariate_normal.cdf()`, compute the joint probability $\\mathbb{P}(X \\le 0, Y \\le 0)$.\n",
    "\n",
    "#### Solution"
   ]
  },
  {
   "cell_type": "code",
   "execution_count": 2,
   "metadata": {},
   "outputs": [],
   "source": [
    "# Imports\n",
    "import numpy as np\n",
    "import pandas as pd\n",
    "import scipy.stats as stats\n",
    "import matplotlib.pyplot as plt"
   ]
  },
  {
   "cell_type": "code",
   "execution_count": 45,
   "metadata": {},
   "outputs": [
    {
     "data": {
      "image/png": "[encoded data removed]",
      "text/plain": [
       "<Figure size 360x360 with 1 Axes>"
      ]
     },
     "metadata": {
      "needs_background": "light"
     },
     "output_type": "display_data"
    }
   ],
   "source": [
    "# Simulating Bivariate Normal\n",
    "mean = [0.01, 0.05]\n",
    "## Symmetric cov matrix\n",
    "cov = np.array([[0.25**2, 0.99*0.25*0.15], [0.99*0.25*0.15, 0.15**2]])\n",
    "n = 100\n",
    "XY = stats.multivariate_normal.rvs(\n",
    "    mean = mean,\n",
    "    cov = cov,\n",
    "    size = n,\n",
    "    random_state = 432\n",
    ")\n",
    "# Plotting\n",
    "plt.figure(figsize=(5,5))\n",
    "plt.scatter(x = XY[:,0], y=XY[:,1])\n",
    "plt.xlabel('X')\n",
    "plt.ylabel('Y')\n",
    "plt.title('Bivariate Normal Dist. with Correlation 0.99')\n",
    "plt.show()"
   ]
  },
  {
   "attachments": {},
   "cell_type": "markdown",
   "metadata": {},
   "source": [
    "From the above scatterplot, it is clear that $X$ and $Y$ have a **very strong positive** linear association. This is clear because the scatterplot of the two variables forms a near perfect 45 degree line (correlation of 0.99). Hence, the relationship is very strong and positive."
   ]
  },
  {
   "cell_type": "code",
   "execution_count": 52,
   "metadata": {},
   "outputs": [
    {
     "name": "stdout",
     "output_type": "stream",
     "text": [
      "Pr(X<=0, Y<=0) =  0.36905556559852487\n"
     ]
    }
   ],
   "source": [
    "# P(X <= 0, Y<=0)\n",
    "prob = stats.multivariate_normal.cdf(\n",
    "    x = [0,0], # Vector of upper limits\n",
    "    mean = mean,\n",
    "    cov = cov\n",
    ")\n",
    "print('Pr(X<=0, Y<=0) = ', prob)"
   ]
  },
  {
   "attachments": {},
   "cell_type": "markdown",
   "metadata": {},
   "source": [
    "Hence, we find that $\\mathbb{P}(X \\le 0, Y \\le 0) = 0.369$."
   ]
  },
  {
   "attachments": {},
   "cell_type": "markdown",
   "metadata": {},
   "source": [
    "### Part (b)\n",
    "\n",
    "Do the same exercise with $\\rho_{XY} = 0.9$.\n",
    "\n",
    "#### Solution\n",
    "\n",
    "We will simply repeat the above steps with this new correlation."
   ]
  },
  {
   "cell_type": "code",
   "execution_count": 53,
   "metadata": {},
   "outputs": [
    {
     "data": {
      "image/png": "[encoded data removed]",
      "text/plain": [
       "<Figure size 360x360 with 1 Axes>"
      ]
     },
     "metadata": {
      "needs_background": "light"
     },
     "output_type": "display_data"
    }
   ],
   "source": [
    "# Simulating Bivariate Normal\n",
    "mean = [0.01, 0.05]\n",
    "## Symmetric cov matrix\n",
    "cov = np.array([[0.25**2, 0.90*0.25*0.15], [0.90*0.25*0.15, 0.15**2]])\n",
    "n = 100\n",
    "XY = stats.multivariate_normal.rvs(\n",
    "    mean = mean,\n",
    "    cov = cov,\n",
    "    size = n,\n",
    "    random_state = 432\n",
    ")\n",
    "# Plotting\n",
    "plt.figure(figsize=(5,5))\n",
    "plt.scatter(x = XY[:,0], y=XY[:,1])\n",
    "plt.xlabel('X')\n",
    "plt.ylabel('Y')\n",
    "plt.title('Bivariate Normal Dist. with Correlation 0.90')\n",
    "plt.show()"
   ]
  },
  {
   "attachments": {},
   "cell_type": "markdown",
   "metadata": {},
   "source": [
    "The association is still **very strong and positive linear**; however, it is slightly less strong than before. The lower correlation means that the points will not fall as closely on a 45 degree line."
   ]
  },
  {
   "cell_type": "code",
   "execution_count": 54,
   "metadata": {},
   "outputs": [
    {
     "name": "stdout",
     "output_type": "stream",
     "text": [
      "Pr(X<=0, Y<=0) =  0.3420967411639703\n"
     ]
    }
   ],
   "source": [
    "# P(X <= 0, Y<=0)\n",
    "prob = stats.multivariate_normal.cdf(\n",
    "    x = [0,0], # Vector of upper limits\n",
    "    mean = mean,\n",
    "    cov = cov\n",
    ")\n",
    "print('Pr(X<=0, Y<=0) = ', prob)"
   ]
  },
  {
   "attachments": {},
   "cell_type": "markdown",
   "metadata": {},
   "source": [
    "We now find that $\\mathbb{P}(X \\le 0, Y \\le 0) = 0.342$ which is smaller than part (a)."
   ]
  },
  {
   "attachments": {},
   "cell_type": "markdown",
   "metadata": {},
   "source": [
    "### Part (c)\n",
    "\n",
    "Do the same exercise with $\\rho_{XY} = 0.5$.\n",
    "\n",
    "#### Solution"
   ]
  },
  {
   "cell_type": "code",
   "execution_count": 55,
   "metadata": {},
   "outputs": [
    {
     "data": {
      "image/png": "[encoded data removed]",
      "text/plain": [
       "<Figure size 360x360 with 1 Axes>"
      ]
     },
     "metadata": {
      "needs_background": "light"
     },
     "output_type": "display_data"
    }
   ],
   "source": [
    "# Simulating Bivariate Normal\n",
    "mean = [0.01, 0.05]\n",
    "## Symmetric cov matrix\n",
    "cov = np.array([[0.25**2, 0.50*0.25*0.15], [0.50*0.25*0.15, 0.15**2]])\n",
    "n = 100\n",
    "XY = stats.multivariate_normal.rvs(\n",
    "    mean = mean,\n",
    "    cov = cov,\n",
    "    size = n,\n",
    "    random_state = 432\n",
    ")\n",
    "# Plotting\n",
    "plt.figure(figsize=(5,5))\n",
    "plt.scatter(x = XY[:,0], y=XY[:,1])\n",
    "plt.xlabel('X')\n",
    "plt.ylabel('Y')\n",
    "plt.title('Bivariate Normal Dist. with Correlation 0.50')\n",
    "plt.show()"
   ]
  },
  {
   "attachments": {},
   "cell_type": "markdown",
   "metadata": {},
   "source": [
    "There is still a **clear positive linear relationship; however, it is much weaker than before!** The scatter is much further away from a perfect 45 degree line. This is due to the even smaller correlation between $X$ and $Y$."
   ]
  },
  {
   "cell_type": "code",
   "execution_count": 56,
   "metadata": {},
   "outputs": [
    {
     "name": "stdout",
     "output_type": "stream",
     "text": [
      "Pr(X<=0, Y<=0) =  0.2574488265503332\n"
     ]
    }
   ],
   "source": [
    "# P(X <= 0, Y<=0)\n",
    "prob = stats.multivariate_normal.cdf(\n",
    "    x = [0,0], # Vector of upper limits\n",
    "    mean = mean,\n",
    "    cov = cov\n",
    ")\n",
    "print('Pr(X<=0, Y<=0) = ', prob)"
   ]
  },
  {
   "attachments": {},
   "cell_type": "markdown",
   "metadata": {},
   "source": [
    "We now find that $\\mathbb{P}(X \\le 0, Y \\le 0) = 0.257$ which is smaller than part (a) and (b)."
   ]
  },
  {
   "attachments": {},
   "cell_type": "markdown",
   "metadata": {},
   "source": [
    "### Part (d)\n",
    "\n",
    "Do the same exercise with $\\rho_{XY} = 0$.\n",
    "\n",
    "#### Solution"
   ]
  },
  {
   "cell_type": "code",
   "execution_count": 63,
   "metadata": {},
   "outputs": [
    {
     "data": {
      "image/png": "[encoded data removed]",
      "text/plain": [
       "<Figure size 360x360 with 1 Axes>"
      ]
     },
     "metadata": {
      "needs_background": "light"
     },
     "output_type": "display_data"
    }
   ],
   "source": [
    "# Simulating Bivariate Normal\n",
    "mean = [0.01, 0.05]\n",
    "## Symmetric cov matrix\n",
    "cov = np.array([[0.25**2, 0*0.25*0.15], [0*0.25*0.15, 0.15**2]])\n",
    "n = 100\n",
    "XY = stats.multivariate_normal.rvs(\n",
    "    mean = mean,\n",
    "    cov = cov,\n",
    "    size = n,\n",
    "    random_state = 432\n",
    ")\n",
    "# Plotting\n",
    "plt.figure(figsize=(5,5))\n",
    "plt.scatter(x = XY[:,0], y=XY[:,1])\n",
    "plt.xlabel('X')\n",
    "plt.ylabel('Y')\n",
    "plt.title('Bivariate Normal Dist. with Correlation 0')\n",
    "plt.show()"
   ]
  },
  {
   "attachments": {},
   "cell_type": "markdown",
   "metadata": {},
   "source": [
    "As we now can see, there is **no linear relationship** between $X$ and $Y$. Since their correlation is 0, the two will be randomly scattered with no clear pattern."
   ]
  },
  {
   "cell_type": "code",
   "execution_count": 64,
   "metadata": {},
   "outputs": [
    {
     "name": "stdout",
     "output_type": "stream",
     "text": [
      "Pr(X<=0, Y<=0) =  0.17882681099946685\n"
     ]
    }
   ],
   "source": [
    "# P(X <= 0, Y<=0)\n",
    "prob = stats.multivariate_normal.cdf(\n",
    "    x = [0,0], # Vector of upper limits\n",
    "    mean = mean,\n",
    "    cov = cov\n",
    ")\n",
    "print('Pr(X<=0, Y<=0) = ', prob)"
   ]
  },
  {
   "attachments": {},
   "cell_type": "markdown",
   "metadata": {},
   "source": [
    "We now find that $\\mathbb{P}(X \\le 0, Y \\le 0) = 0.179$ which is smaller than part (a), (b), and (c)."
   ]
  },
  {
   "attachments": {},
   "cell_type": "markdown",
   "metadata": {},
   "source": [
    "### Part (e)\n",
    "\n",
    "Do the same exercise with $\\rho_{XY} = -0.9$.\n",
    "\n",
    "#### Solution"
   ]
  },
  {
   "cell_type": "code",
   "execution_count": 65,
   "metadata": {},
   "outputs": [
    {
     "data": {
      "image/png": "[encoded data removed]",
      "text/plain": [
       "<Figure size 360x360 with 1 Axes>"
      ]
     },
     "metadata": {
      "needs_background": "light"
     },
     "output_type": "display_data"
    }
   ],
   "source": [
    "# Simulating Bivariate Normal\n",
    "mean = [0.01, 0.05]\n",
    "## Symmetric cov matrix\n",
    "cov = np.array([[0.25**2, -0.9*0.25*0.15], [-0.9*0.25*0.15, 0.15**2]])\n",
    "n = 100\n",
    "XY = stats.multivariate_normal.rvs(\n",
    "    mean = mean,\n",
    "    cov = cov,\n",
    "    size = n,\n",
    "    random_state = 432\n",
    ")\n",
    "# Plotting\n",
    "plt.figure(figsize=(5,5))\n",
    "plt.scatter(x = XY[:,0], y=XY[:,1])\n",
    "plt.xlabel('X')\n",
    "plt.ylabel('Y')\n",
    "plt.title('Bivariate Normal Dist. with Correlation -0.9')\n",
    "plt.show()"
   ]
  },
  {
   "attachments": {},
   "cell_type": "markdown",
   "metadata": {},
   "source": [
    "It is now clear that there is a **strong negative linear relationship** between $X$ and $Y$. The high negative correlation causes this result. The above plot shows this by having the scatterplot be downwards sloping around a near negative 45 degree line."
   ]
  },
  {
   "cell_type": "code",
   "execution_count": 66,
   "metadata": {},
   "outputs": [
    {
     "name": "stdout",
     "output_type": "stream",
     "text": [
      "Pr(X<=0, Y<=0) =  0.020246020323618524\n"
     ]
    }
   ],
   "source": [
    "# P(X <= 0, Y<=0)\n",
    "prob = stats.multivariate_normal.cdf(\n",
    "    x = [0,0], # Vector of upper limits\n",
    "    mean = mean,\n",
    "    cov = cov\n",
    ")\n",
    "print('Pr(X<=0, Y<=0) = ', prob)"
   ]
  },
  {
   "attachments": {},
   "cell_type": "markdown",
   "metadata": {},
   "source": [
    "We now find that $\\mathbb{P}(X \\le 0, Y \\le 0) = 0.0202$ which is smallest of all. This is intuitive since the two variables are negatively correlated. I.e., when one is positive, the other is likely to be negative. Hence, it is very unlikely that both will be less than 0."
   ]
  },
  {
   "attachments": {},
   "cell_type": "markdown",
   "metadata": {},
   "source": [
    "## Problem 2: Maximum Likelihood Estimation (MLE)\n",
    "\n",
    "Download the Microsoft daily price from Jan 02, 2010 to Feb 02, 2021 from *Yahoo* Finance, and perform the following data analysis:\n",
    "\n",
    "### Part (a)\n",
    "\n",
    "Assume the daily cc returns are i.i.d $N(\\mu, \\sigma^2)$. Find the maximum likelihood estimators $\\mu$ and $\\sigma$, and the standard errors. Do we reject the null hypothesis $H_0 \\ : \\ \\mu = 0$?\n",
    "\n",
    "#### Solution\n",
    "\n",
    "Recall that $\\hat{\\mu}_{mle}$ and $\\hat{\\sigma}_{mle}$ are solutions to the log-likelihood estimation problem:\n",
    "\n",
    "$$\\underset{\\mu, \\sigma}{\\arg \\ \\max} \\ \\left\\{\\sum_{t=1}^T \\log f(r_t; \\mu, \\sigma) \\right\\}$$\n",
    "\n",
    "where $f(r_t;\\mu,\\sigma) = \\frac{1}{\\sigma\\sqrt{2\\pi}}\\exp\\left(-\\frac{(r_t - \\mu)^2}{2\\sigma^2}\\right)$. We then have\n",
    "\n",
    "\\begin{align*}\n",
    "\\hat{\\mu}_{mle} &= \\frac{1}{T}\\sum_{t=1}^T r_t \\\\\n",
    "\\hat{\\sigma}_{mle}^2 &=  \\frac{1}{T}\\sum_{t=1}^T(r_t - \\hat{\\mu})^2\n",
    "\\end{align*}"
   ]
  },
  {
   "cell_type": "code",
   "execution_count": 81,
   "metadata": {},
   "outputs": [
    {
     "data": {
      "text/html": [
       "<div>\n",
       "<style scoped>\n",
       "    .dataframe tbody tr th:only-of-type {\n",
       "        vertical-align: middle;\n",
       "    }\n",
       "\n",
       "    .dataframe tbody tr th {\n",
       "        vertical-align: top;\n",
       "    }\n",
       "\n",
       "    .dataframe thead th {\n",
       "        text-align: right;\n",
       "    }\n",
       "</style>\n",
       "<table border=\"1\" class=\"dataframe\">\n",
       "  <thead>\n",
       "    <tr style=\"text-align: right;\">\n",
       "      <th></th>\n",
       "      <th>Date</th>\n",
       "      <th>Open</th>\n",
       "      <th>High</th>\n",
       "      <th>Low</th>\n",
       "      <th>Close</th>\n",
       "      <th>Adj Close</th>\n",
       "      <th>Volume</th>\n",
       "    </tr>\n",
       "  </thead>\n",
       "  <tbody>\n",
       "    <tr>\n",
       "      <th>0</th>\n",
       "      <td>2010-01-04</td>\n",
       "      <td>30.620001</td>\n",
       "      <td>31.100000</td>\n",
       "      <td>30.590000</td>\n",
       "      <td>30.950001</td>\n",
       "      <td>23.623903</td>\n",
       "      <td>38409100</td>\n",
       "    </tr>\n",
       "    <tr>\n",
       "      <th>1</th>\n",
       "      <td>2010-01-05</td>\n",
       "      <td>30.850000</td>\n",
       "      <td>31.100000</td>\n",
       "      <td>30.639999</td>\n",
       "      <td>30.959999</td>\n",
       "      <td>23.631529</td>\n",
       "      <td>49749600</td>\n",
       "    </tr>\n",
       "    <tr>\n",
       "      <th>2</th>\n",
       "      <td>2010-01-06</td>\n",
       "      <td>30.879999</td>\n",
       "      <td>31.080000</td>\n",
       "      <td>30.520000</td>\n",
       "      <td>30.770000</td>\n",
       "      <td>23.486511</td>\n",
       "      <td>58182400</td>\n",
       "    </tr>\n",
       "    <tr>\n",
       "      <th>3</th>\n",
       "      <td>2010-01-07</td>\n",
       "      <td>30.629999</td>\n",
       "      <td>30.700001</td>\n",
       "      <td>30.190001</td>\n",
       "      <td>30.450001</td>\n",
       "      <td>23.242252</td>\n",
       "      <td>50559700</td>\n",
       "    </tr>\n",
       "    <tr>\n",
       "      <th>4</th>\n",
       "      <td>2010-01-08</td>\n",
       "      <td>30.280001</td>\n",
       "      <td>30.879999</td>\n",
       "      <td>30.240000</td>\n",
       "      <td>30.660000</td>\n",
       "      <td>23.402540</td>\n",
       "      <td>51197400</td>\n",
       "    </tr>\n",
       "  </tbody>\n",
       "</table>\n",
       "</div>"
      ],
      "text/plain": [
       "         Date       Open       High        Low      Close  Adj Close    Volume\n",
       "0  2010-01-04  30.620001  31.100000  30.590000  30.950001  23.623903  38409100\n",
       "1  2010-01-05  30.850000  31.100000  30.639999  30.959999  23.631529  49749600\n",
       "2  2010-01-06  30.879999  31.080000  30.520000  30.770000  23.486511  58182400\n",
       "3  2010-01-07  30.629999  30.700001  30.190001  30.450001  23.242252  50559700\n",
       "4  2010-01-08  30.280001  30.879999  30.240000  30.660000  23.402540  51197400"
      ]
     },
     "execution_count": 81,
     "metadata": {},
     "output_type": "execute_result"
    }
   ],
   "source": [
    "# Load data\n",
    "df = pd.read_csv('msftPrices.csv')\n",
    "df.head() # Jan 2. Saturday"
   ]
  },
  {
   "cell_type": "code",
   "execution_count": 83,
   "metadata": {},
   "outputs": [
    {
     "data": {
      "text/html": [
       "<div>\n",
       "<style scoped>\n",
       "    .dataframe tbody tr th:only-of-type {\n",
       "        vertical-align: middle;\n",
       "    }\n",
       "\n",
       "    .dataframe tbody tr th {\n",
       "        vertical-align: top;\n",
       "    }\n",
       "\n",
       "    .dataframe thead th {\n",
       "        text-align: right;\n",
       "    }\n",
       "</style>\n",
       "<table border=\"1\" class=\"dataframe\">\n",
       "  <thead>\n",
       "    <tr style=\"text-align: right;\">\n",
       "      <th></th>\n",
       "      <th>Date</th>\n",
       "      <th>Open</th>\n",
       "      <th>High</th>\n",
       "      <th>Low</th>\n",
       "      <th>Close</th>\n",
       "      <th>Adj Close</th>\n",
       "      <th>Volume</th>\n",
       "      <th>cc</th>\n",
       "    </tr>\n",
       "  </thead>\n",
       "  <tbody>\n",
       "    <tr>\n",
       "      <th>0</th>\n",
       "      <td>2010-01-04</td>\n",
       "      <td>30.620001</td>\n",
       "      <td>31.100000</td>\n",
       "      <td>30.590000</td>\n",
       "      <td>30.950001</td>\n",
       "      <td>23.623903</td>\n",
       "      <td>38409100</td>\n",
       "      <td>NaN</td>\n",
       "    </tr>\n",
       "    <tr>\n",
       "      <th>1</th>\n",
       "      <td>2010-01-05</td>\n",
       "      <td>30.850000</td>\n",
       "      <td>31.100000</td>\n",
       "      <td>30.639999</td>\n",
       "      <td>30.959999</td>\n",
       "      <td>23.631529</td>\n",
       "      <td>49749600</td>\n",
       "      <td>0.000323</td>\n",
       "    </tr>\n",
       "    <tr>\n",
       "      <th>2</th>\n",
       "      <td>2010-01-06</td>\n",
       "      <td>30.879999</td>\n",
       "      <td>31.080000</td>\n",
       "      <td>30.520000</td>\n",
       "      <td>30.770000</td>\n",
       "      <td>23.486511</td>\n",
       "      <td>58182400</td>\n",
       "      <td>-0.006156</td>\n",
       "    </tr>\n",
       "    <tr>\n",
       "      <th>3</th>\n",
       "      <td>2010-01-07</td>\n",
       "      <td>30.629999</td>\n",
       "      <td>30.700001</td>\n",
       "      <td>30.190001</td>\n",
       "      <td>30.450001</td>\n",
       "      <td>23.242252</td>\n",
       "      <td>50559700</td>\n",
       "      <td>-0.010454</td>\n",
       "    </tr>\n",
       "    <tr>\n",
       "      <th>4</th>\n",
       "      <td>2010-01-08</td>\n",
       "      <td>30.280001</td>\n",
       "      <td>30.879999</td>\n",
       "      <td>30.240000</td>\n",
       "      <td>30.660000</td>\n",
       "      <td>23.402540</td>\n",
       "      <td>51197400</td>\n",
       "      <td>0.006873</td>\n",
       "    </tr>\n",
       "  </tbody>\n",
       "</table>\n",
       "</div>"
      ],
      "text/plain": [
       "         Date       Open       High        Low      Close  Adj Close  \\\n",
       "0  2010-01-04  30.620001  31.100000  30.590000  30.950001  23.623903   \n",
       "1  2010-01-05  30.850000  31.100000  30.639999  30.959999  23.631529   \n",
       "2  2010-01-06  30.879999  31.080000  30.520000  30.770000  23.486511   \n",
       "3  2010-01-07  30.629999  30.700001  30.190001  30.450001  23.242252   \n",
       "4  2010-01-08  30.280001  30.879999  30.240000  30.660000  23.402540   \n",
       "\n",
       "     Volume        cc  \n",
       "0  38409100       NaN  \n",
       "1  49749600  0.000323  \n",
       "2  58182400 -0.006156  \n",
       "3  50559700 -0.010454  \n",
       "4  51197400  0.006873  "
      ]
     },
     "execution_count": 83,
     "metadata": {},
     "output_type": "execute_result"
    }
   ],
   "source": [
    "# cc Returns\n",
    "df['cc'] = np.log(df['Adj Close']/df['Adj Close'].shift(1))\n",
    "df.head()"
   ]
  },
  {
   "cell_type": "code",
   "execution_count": 124,
   "metadata": {},
   "outputs": [
    {
     "name": "stdout",
     "output_type": "stream",
     "text": [
      "      fun: -7573.3790028086105\n",
      " hess_inv: array([[5.06638606e-08, 5.06249477e-08],\n",
      "       [5.06249477e-08, 5.07222068e-08]])\n",
      "      jac: array([0.        , 0.00024414])\n",
      "  message: 'Desired error not necessarily achieved due to precision loss.'\n",
      "     nfev: 66\n",
      "      nit: 9\n",
      "     njev: 22\n",
      "   status: 2\n",
      "  success: False\n",
      "        x: array([0.00082328, 0.01601251])\n"
     ]
    }
   ],
   "source": [
    "from scipy.stats import norm\n",
    "import scipy.optimize as optimize\n",
    "\n",
    "cc = df['cc'].iloc[1:]\n",
    "\n",
    "# MLE\n",
    "def log_likelihood(params, data):\n",
    "    mu, sigma = params\n",
    "    # If the standard deviation prameter is negative, return a large value:\n",
    "    if sigma < 0:\n",
    "        return(1e8)\n",
    "    likelihood = norm.pdf(data, loc = mu, scale = sigma)\n",
    "    return -np.sum(np.log(likelihood[likelihood > 0]))\n",
    "\n",
    "res = optimize.minimize(fun = log_likelihood, \n",
    "                        x0 = [0.1, 0.5],  # initial guess\n",
    "                        args = cc)\n",
    "print(res)"
   ]
  },
  {
   "cell_type": "code",
   "execution_count": 110,
   "metadata": {},
   "outputs": [
    {
     "name": "stdout",
     "output_type": "stream",
     "text": [
      "ML estimate of mean:  0.0008232842658414187\n",
      "ML estimate of st. dev:  0.01601250920762722\n",
      "SE(mean):  0.00022508634027117912\n",
      "SE(st. dev):  0.00022521591150143007\n"
     ]
    }
   ],
   "source": [
    "# Mean and st. dev of ML estimators\n",
    "mean, std = res.x\n",
    "\n",
    "# Computing standard errors using inverse hessian\n",
    "hess = res.hess_inv\n",
    "se_mean = np.sqrt(hess[0,0])\n",
    "se_std = np.sqrt(hess[1,1])\n",
    "\n",
    "print(\"ML estimate of mean: \", mean)\n",
    "print(\"ML estimate of st. dev: \", std)\n",
    "print(\"SE(mean): \", se_mean)\n",
    "print(\"SE(st. dev): \", se_std)"
   ]
  },
  {
   "cell_type": "code",
   "execution_count": 108,
   "metadata": {},
   "outputs": [
    {
     "name": "stdout",
     "output_type": "stream",
     "text": [
      "t-stat:  3.657637619633176  > 1.96\n",
      "==> Reject the null!\n"
     ]
    }
   ],
   "source": [
    "# H0 : mu = 0\n",
    "t = mean/se_mean\n",
    "print('t-stat: ', t, '', '> 1.96')\n",
    "print('==> Reject the null!')"
   ]
  },
  {
   "attachments": {},
   "cell_type": "markdown",
   "metadata": {},
   "source": [
    "In this problem, we optimized the log likelihood function with respect to our $\\mu$ and $\\sigma$ parameters. In this optimization process, `scipy.optimize()` produces an inverse Hessian matrix. By taking the square root of the diagnol entries of this inverse Hessian, we could recover the standard errors for our parameters. We then used the estimate for $\\mu$ and its standard error to run the hypothesis test. Ultimately we found that the t-stat exceeded the 95\\% level critical score. Hence, we **reject the null!**"
   ]
  },
  {
   "attachments": {},
   "cell_type": "markdown",
   "metadata": {},
   "source": [
    "### Part (b)\n",
    "\n",
    "Compute the sample skewness and sample kurtosis using the estimators of $\\mu$ and $\\sigma$ you obtained in part (a). Are the estimators of skewness and kurtosis consistent with the normal assumption obrtained in question (a)?\n",
    "\n",
    "#### Solution"
   ]
  },
  {
   "cell_type": "code",
   "execution_count": 115,
   "metadata": {},
   "outputs": [
    {
     "name": "stdout",
     "output_type": "stream",
     "text": [
      "Skewness:  -0.2450878711900944\n",
      "Kurtosis:  13.328635970459045\n"
     ]
    }
   ],
   "source": [
    "# Compute sample skewness and kurtosis\n",
    "n = len(cc)\n",
    "skew = np.sum((cc - mean)**3 / std**3) / n\n",
    "kurt = np.sum((cc - mean)**4 / std**4) / n\n",
    "print('Skewness: ', skew)\n",
    "print('Kurtosis: ', kurt)"
   ]
  },
  {
   "attachments": {},
   "cell_type": "markdown",
   "metadata": {},
   "source": [
    "The skewness and kurtosis of a Normally distributed variable are 0 and 3, respectively. As we can see from our above result, the skewness looks consistent with a normal distribution; however the kurtosis is greater than 3. Therefore, we argue that our data might not be normally distributed.\n",
    "\n",
    "This is unsurprising since financial data tends to have thicker tails and thus larger kurtosis."
   ]
  },
  {
   "attachments": {},
   "cell_type": "markdown",
   "metadata": {},
   "source": [
    "### Part (c)\n",
    "\n",
    "Perform the Jarque-Bera Test on the daily cc returns and explain the test result.\n",
    "\n",
    "#### Solution"
   ]
  },
  {
   "cell_type": "code",
   "execution_count": 119,
   "metadata": {},
   "outputs": [
    {
     "name": "stdout",
     "output_type": "stream",
     "text": [
      "JB Stat:  12425.052311964031\n",
      "JB p-value:  0.0\n"
     ]
    }
   ],
   "source": [
    "# Jarque-Bera Test for Normality\n",
    "jb = stats.jarque_bera(cc)\n",
    "print('JB Stat: ', jb[0])\n",
    "print('JB p-value: ', jb[1])"
   ]
  },
  {
   "attachments": {},
   "cell_type": "markdown",
   "metadata": {},
   "source": [
    "From the above Jarque-Bera test, we see that the p-value is 0 which means that we reject the null hypothesis that our data is normally distributed. The test statistic should be 0 if the data is normally distributed. Our test statistic is about 12425 with a p-value of 0. This means that it is statistically significantly different from 0. Hence, we say our data is **not** normally distributed."
   ]
  },
  {
   "attachments": {},
   "cell_type": "markdown",
   "metadata": {},
   "source": [
    "### Part (d)\n",
    "\n",
    "In the view of the testing results in part (c), do we trust the maximum likelihood estimators of $\\mu$ and $\\sigma$ in part (a)? Why?\n",
    "\n",
    "#### Solution\n",
    "\n",
    "**No, we cannot trust our estimators!** Our likelihood function used the normal distribution as its density function; hence, since our data is not actually normally distributed, the optimization procedure optimized on the wrong density function. This will give us incorrect estimators for our data. We would have been better off using a different density function (e.g., one with bigger tails)."
   ]
  }
 ],
 "metadata": {
  "kernelspec": {
   "display_name": "base",
   "language": "python",
   "name": "python3"
  },
  "language_info": {
   "codemirror_mode": {
    "name": "ipython",
    "version": 3
   },
   "file_extension": ".py",
   "mimetype": "text/x-python",
   "name": "python",
   "nbconvert_exporter": "python",
   "pygments_lexer": "ipython3",
   "version": "3.9.12"
  },
  "orig_nbformat": 4,
  "vscode": {
   "interpreter": {
    "hash": "31df7c7627a67be450e0b97ef203135bae9a88aae24921ec8b8b14d7d7918e04"
   }
  }
 },
 "nbformat": 4,
 "nbformat_minor": 2
}
