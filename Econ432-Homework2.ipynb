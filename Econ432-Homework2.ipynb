{
 "cells": [
  {
   "cell_type": "raw",
   "metadata": {},
   "source": [
    "---\n",
    "title: Econ 432 Homework 2\n",
    "author: \"Richard Grigorian (UID: 505-088-797)\"\n",
    "date: today\n",
    "format: \n",
    "    html:\n",
    "        mainfont: \"Palantino\"\n",
    "        fontsize: medium\n",
    "        number-sections: true\n",
    "        number-depth: 3\n",
    "        toc: true\n",
    "        toc-location: left\n",
    "        code-fold: false\n",
    "        html-math-method: katex\n",
    "        embed-resources: false\n",
    "        self-contained-math: false\n",
    "    pdf:\n",
    "        mainfont: Times New Roman\n",
    "        sansfont: Times New Roman\n",
    "        number-sections: True\n",
    "        number-depth: 3\n",
    "        toc: true\n",
    "        toc-depth: 3\n",
    "        toc-title: Contents\n",
    "        shift-heading-level-by: 0\n",
    "        execute:\n",
    "            warning: false\n",
    "            cache: true\n",
    "jupyter: python3\n",
    "---"
   ]
  },
  {
   "attachments": {},
   "cell_type": "markdown",
   "metadata": {},
   "source": [
    "{{< pagebreak >}}\n",
    "\n",
    "# Part I: Review Questions\n",
    "\n",
    "## Problem 1\n",
    "\n",
    "Suppose $X$ is a uniform random variable over $[0,1]$ (i.e., $X \\sim U [0,1]$) and $Y$ is a Bernoulli random variable with success probability $Pr(Y=1)=0.5$. Compute the following:\n",
    "\n",
    "- $Pr(X<0.1)$ and $Pr(Y<0.1)$\n",
    "- $E(X)$, $Var(X)$, $E(Y)$, and $Var(Y)$\n",
    "- $E(0.3X + 0.7Y)$ and $E(0.5X + 0.5Y)$\n",
    "- $E(\\alpha X + (1-\\alpha)Y) \\quad \\forall \\alpha \\in [0,1]$\n",
    "- Now suppose $X$ and $Y$ represent (statistically independent) outcomes of two lotteries, and you would like to invest your \\$100 to these lotteries. Assume you only care about the mean (preferably high) and variance (preferably low) of your investment. How do you want to distribute your \\$100, i.e., how do you choose your $\\alpha \\in [0,1]$ for $\\alpha X + (1-\\alpha)Y$? Justify your answer."
   ]
  },
  {
   "attachments": {},
   "cell_type": "markdown",
   "metadata": {},
   "source": [
    "#### Solution\n",
    "\n",
    "$$Pr(X<0.1) = \\frac{x - a}{b-a} = \\frac{0.1}{1-0} = 0.1$$\n",
    "\n",
    "$$Pr(Y<0.1) = 0.5$$\n",
    "Since $Y$ is a Bernouli with a one-half probability of being 1 or 0. Hence, the probability of it being less than 1 is just the probability of it being 0 which is one-half.\n",
    "\n",
    "$$E(X) = \\frac{1}{2}(b+a) = \\frac{1}{2}(1-0) = 0.5$$\n",
    "$$ E(X^2) = \\frac{1}{b-a}\\int_{[a,b]} X^2 dX = \\frac{b^3-a^3}{3(b-a)} = \\frac{a^2 + ab + b^2}{3}$$\n",
    "$$Var(X) = E(X^2) - E(X)^2 = \\frac{a^2 + ab + b^2}{3} + \\frac{a + b}{2} = \\frac{(b-a)^2}{12} = \\frac{1}{12}$$\n",
    "\n",
    "$$E(Y) = \\frac{1}{2}(1) + \\frac{1}{2}(0) = 0.5$$\n",
    "\n",
    "$$Var(Y) = E(Y^2) - E(Y)^2 = \\left( \\frac{1}{2}(1)^2 + \\frac{1}{2} (0)^2 \\right) - 0.5^2 = 0.25$$\n",
    "By linearity of expectation, we say\n",
    "$$E(0.3X + 0.7Y) = 0.3E(X) + 0.7E(Y) = 0.3(0.5) + 0.7(0.5) = 0.5$$\n",
    "$$E(0.5X + 0.5Y) = 0.5E(X) + 0.5E(Y) = 0.5(0.5) + 0.5(0.5) = 0.5$$\n",
    "For all $\\alpha \\in [0,1]$ we say\n",
    "$$E(\\alpha X + (1-\\alpha)Y) = \\alpha E(X) + (1-\\alpha)E(Y) = 0.5(\\alpha + 1 - \\alpha) = 0.5$$\n",
    "Now we consider the two lotteries. In particular, we notice that both $X$ and $Y$ have the same expected value. This means that on average both lotteries will yield the same result; however, we notice that X has a much lower variance at just $\\frac{1}{12}$ compared to $Y$ which has a variance of 0.5. Hence, it is optimally preferable to put our entire \\$100, i.e., $\\alpha = 1$, into $X$. $X$ has the same expected value (mean) as $Y$ but a much lower variance."
   ]
  },
  {
   "attachments": {},
   "cell_type": "markdown",
   "metadata": {},
   "source": [
    "## Problem 2\n",
    "\n",
    "Suppose $X$ is a normally distributed random variable with mean 0 and variance 1 (i.e., standard normal). Compute the following:\n",
    "\n",
    "- $Pr(X < -1.96)$\n",
    "- $Pr(X > 1.64)$\n",
    "- $Pr(-0.5 < X < 0.5)$\n",
    "- 1\\% quantile, $q_{.01}$ and 99\\% quantile, $q_{.99}$\n",
    "- 5\\% quantile, $q_{.05}$ and 95\\% quantile, $q_{.95}$"
   ]
  },
  {
   "attachments": {},
   "cell_type": "markdown",
   "metadata": {},
   "source": [
    "#### Solution\n",
    "\n",
    "We will compute the above probabilities and quantiles using python's `norm.cdf` and `norm.pdf` functions."
   ]
  },
  {
   "cell_type": "code",
   "execution_count": 17,
   "metadata": {},
   "outputs": [
    {
     "name": "stdout",
     "output_type": "stream",
     "text": [
      "Pr(X<-1.96):  0.024997895148220435\n",
      "Pr(X>1.64):  0.050502583474103746\n",
      "Pr(-0.5<X<0.5):  0.38292492254802624\n",
      "1% quantile:  -2.3263478740408408\n",
      "99% quantile:  2.3263478740408408\n",
      "5% quantile:  -1.6448536269514729\n",
      "95% quantile:  1.6448536269514722\n"
     ]
    }
   ],
   "source": [
    "from scipy.stats import norm, chi2, t, binom\n",
    "# Pr(X<-1.96)\n",
    "print('Pr(X<-1.96): ', norm.cdf(-1.96))\n",
    "# Pr(X>1.64)\n",
    "print('Pr(X>1.64): ', 1-norm.cdf(1.64))\n",
    "# Pr(-0.5<X<0.5)\n",
    "print('Pr(-0.5<X<0.5): ', norm.cdf(0.5)-norm.cdf(-0.5))\n",
    "# q.01 and q.99\n",
    "print('1% quantile: ', norm.ppf(0.01))\n",
    "print('99% quantile: ', norm.ppf(0.99))\n",
    "# q.05 and q.95\n",
    "print('5% quantile: ', norm.ppf(0.05))\n",
    "print('95% quantile: ', norm.ppf(0.95))"
   ]
  },
  {
   "attachments": {},
   "cell_type": "markdown",
   "metadata": {},
   "source": [
    "## Problem 3\n",
    "\n",
    "Let $X$ denote the monthly return on Microsoft Stock and let $Y$ denote the monthly return on starbucks stock. Assume that $X \\sim N(0.05, (0.10)^2)$ and $Y \\sim N(0.025, (0.05)^2)$.\n",
    "\n",
    "### Part (a)\n",
    "\n",
    "Using a grid of values between -0.25 and 0.35, plot the normal curves for $X$ and $Y$. Make sure that both normal curves are on the same plot.\n",
    "\n",
    "#### Solution"
   ]
  },
  {
   "cell_type": "code",
   "execution_count": 32,
   "metadata": {},
   "outputs": [
    {
     "data": {
      "image/png": "[encoded data removed]",
      "text/plain": [
       "<Figure size 720x432 with 1 Axes>"
      ]
     },
     "metadata": {
      "needs_background": "light"
     },
     "output_type": "display_data"
    }
   ],
   "source": [
    "import numpy as np\n",
    "import matplotlib.pyplot as plt\n",
    "# Define parameters\n",
    "mu_x = 0.05\n",
    "sigma_x = 0.10\n",
    "mu_y = 0.025\n",
    "sigma_y = 0.05\n",
    "\n",
    "x_vals = np.linspace(-0.25,0.35, 101)\n",
    "plt.figure(figsize=(10,6))\n",
    "plt.plot(x_vals, norm.pdf(x_vals, mu_x, sigma_x),\n",
    "          label = '$X \\sim N(0.05, 0.1^2)$', color = 'blue')\n",
    "plt.vlines(x = mu_x, ymin = 0, ymax = norm.pdf(mu_x, mu_x, sigma_x), \n",
    "           color='blue', ls='--')\n",
    "plt.plot(x_vals, norm.pdf(x_vals, mu_y, sigma_y),\n",
    "          label = '$Y \\sim N(0.025, 0.05^2)$', color = 'red')\n",
    "plt.vlines(x = mu_y, ymin = 0, ymax = norm.pdf(mu_y, mu_y, sigma_y),\n",
    "            color='red', ls='--')\n",
    "plt.ylabel('PDF')\n",
    "plt.legend()\n",
    "plt.title('PDF of Normal Distribution')\n",
    "plt.show()"
   ]
  },
  {
   "attachments": {},
   "cell_type": "markdown",
   "metadata": {},
   "source": [
    "### Part (b)\n",
    "\n",
    "Comment on the risk-return trade-offs for the two stocks. Which\n",
    "one do you want to invest?\n",
    "\n",
    "#### Solution\n",
    "\n",
    "The mean is a measure of the expected return of that particular stock. The variance acts as a measure of the risk of that stock. We want a stock that has a high expected return and a relatively low risk. From the above figure (as well as the values for mean and variance) we see that $X$ has the higher return but it also is more risky. Whereas, $Y$ has a lower expected return but is also less risky. Between these two stocks, I would prefer $Y$ since it has smaller risk and my goal would be to minimze risk."
   ]
  },
  {
   "attachments": {},
   "cell_type": "markdown",
   "metadata": {},
   "source": [
    "## Problem 4\n",
    "\n",
    "Let $R$ denote the simple monthly return on Microsoft stock and let $W_0$ denote initial wealth to be invested over the month. Assume $R \\sim N(0.05, (0.12)^2)$ and that $W_0 = \\$100,000$.\n",
    "\n",
    "### Part (a)\n",
    "\n",
    "Determine the 1\\% and 5\\% value-at-risk (VaR) over the month on the investment. That is, determine the loss in investment value that may occur over the next month with 1\\% probability and with 5\\% probability.\n",
    "\n",
    "#### Solution\n",
    "\n",
    "$VaR_\\alpha$ can be thought of as the $\\alpha$ quantile of the profit function. Namely, it is the value below which we expect our profit to be with probability $\\alpha$. In other words, the probability that the loss of the investment is larger than $-VaR_\\alpha$ is at most $\\alpha$."
   ]
  },
  {
   "cell_type": "code",
   "execution_count": 48,
   "metadata": {},
   "outputs": [
    {
     "name": "stdout",
     "output_type": "stream",
     "text": [
      "VaR (1% & 5%):  [-22916.17 -14738.24]\n"
     ]
    }
   ],
   "source": [
    "# Parameters\n",
    "W0 = 100000\n",
    "mu_R = 0.05\n",
    "sigma_R = 0.12\n",
    "alpha = [0.01, 0.05]\n",
    "print('VaR (1% & 5%): ', np.round(norm.ppf(alpha, mu_R, sigma_R)*W0,2))"
   ]
  },
  {
   "attachments": {},
   "cell_type": "markdown",
   "metadata": {},
   "source": [
    "Hemce, the loss in investment value that may occur over the next month is \\$22,916.17 and \\$14,738.24 with probabilities 1\\$ and 5\\% respectively."
   ]
  },
  {
   "attachments": {},
   "cell_type": "markdown",
   "metadata": {},
   "source": [
    "### Part (b)\n",
    "\n",
    "Determine the 1\\% and 5\\% expected shortfall (ES) over the month on the investment.\n",
    "\n",
    "#### Solution\n",
    "\n",
    "Expected Shortfall at some $\\alpha$ can be computed as\n",
    "$$\\text{ES}_\\alpha = \\alpha^{-1} \\int_0^\\alpha \\text{VaR}_u du$$"
   ]
  },
  {
   "cell_type": "code",
   "execution_count": 61,
   "metadata": {},
   "outputs": [
    {
     "name": "stdout",
     "output_type": "stream",
     "text": [
      "Expected Shortfall (1%):  -26982.57\n",
      "Expected Shortfall (5%):  -19752.55\n"
     ]
    }
   ],
   "source": [
    "import scipy.integrate as integrate\n",
    "# Parameters\n",
    "alpha_4b1 = 0.01\n",
    "alpha_4b2 = 0.05\n",
    "# Functional Form\n",
    "VaR = lambda x: norm.ppf(x,mu_R, sigma_R) * W0\n",
    "# Integrals\n",
    "es4b1 = integrate.quad(VaR, 0, alpha_4b1)[0] / alpha_4b1\n",
    "es4b2 = integrate.quad(VaR, 0, alpha_4b2)[0] / alpha_4b2\n",
    "print('Expected Shortfall (1%): ', np.round(es4b1,2))\n",
    "print('Expected Shortfall (5%): ', np.round(es4b2,2))"
   ]
  },
  {
   "attachments": {},
   "cell_type": "markdown",
   "metadata": {},
   "source": [
    "As expected, the expecter shortfall values are larger (in absolute terms) than their VaR counterparts."
   ]
  },
  {
   "attachments": {},
   "cell_type": "markdown",
   "metadata": {},
   "source": [
    "## Problem 5\n",
    "\n",
    "Let r denote the continuously compounded monthly return on Microsoft stock and let $W_0$ denote the initial wealth to be invested over the month. Assume that $r \\sim iid \\  N(0.05, (0.12)^2)$ and that $W_0 = \\$100,000$.\n",
    "\n",
    "### Part (a)\n",
    "\n",
    "Determine the 1\\% and 5\\% value-at-risk (VaR) over the month on the investment. That is, determine the loss in investment value that may occur over the next month with 1\\% probability and with 5\\% probability.\n",
    "\n",
    "#### Solution\n",
    "\n",
    "For cc returns, VaR at $\\alpha$ is\n",
    "$$\\textrm{VaR}_\\alpha = W_0 \\cdot (e^{q_\\alpha^r} - 1)$$\n",
    "where $q_\\alpha^r$ is the $\\alpha$ quantile function of the Normal Distribution for $r$."
   ]
  },
  {
   "cell_type": "code",
   "execution_count": 59,
   "metadata": {},
   "outputs": [
    {
     "name": "stdout",
     "output_type": "stream",
     "text": [
      "VaR (1% & 5%):  [-20480.01 -13703.61]\n"
     ]
    }
   ],
   "source": [
    "# Parameters\n",
    "W0 = 100000\n",
    "mu_r = 0.05\n",
    "sigma_r = 0.12\n",
    "alpha = [0.01, 0.05]\n",
    "print('VaR (1% & 5%): ', np.round(W0 * (np.exp(norm.ppf(alpha, mu_R, sigma_R))-1), 2))"
   ]
  },
  {
   "attachments": {},
   "cell_type": "markdown",
   "metadata": {},
   "source": [
    "Hemce, the loss in investment value that may occur over the next month is \\$20,480.01 and \\$13,703.61 with probabilities 1\\$ and 5\\% respectively."
   ]
  },
  {
   "attachments": {},
   "cell_type": "markdown",
   "metadata": {},
   "source": [
    "### Part (b)\n",
    "\n",
    "Determine the 1\\% and 5\\% expected shortfall (ES) over the month on the investment.\n",
    "\n",
    "#### Solution\n",
    "\n",
    "Very similar to before but now with the new VaR function:"
   ]
  },
  {
   "cell_type": "code",
   "execution_count": 62,
   "metadata": {},
   "outputs": [
    {
     "name": "stdout",
     "output_type": "stream",
     "text": [
      "Expected Shortfall (1%):  -23596.52\n",
      "Expected Shortfall (5%):  -17844.19\n"
     ]
    }
   ],
   "source": [
    "# Parameters\n",
    "alpha_5b1 = 0.01\n",
    "alpha_5b2 = 0.05\n",
    "# Functional Form\n",
    "VaR = lambda x: W0 * (np.exp(norm.ppf(x, mu_r, sigma_r)) - 1)\n",
    "# Integrals\n",
    "es5b1 = integrate.quad(VaR, 0, alpha_5b1)[0] / alpha_5b1\n",
    "es5b2 = integrate.quad(VaR, 0, alpha_5b2)[0] / alpha_5b2\n",
    "print('Expected Shortfall (1%): ', np.round(es5b1,2))\n",
    "print('Expected Shortfall (5%): ', np.round(es5b2,2))"
   ]
  },
  {
   "attachments": {},
   "cell_type": "markdown",
   "metadata": {},
   "source": [
    "As expected, the expecter shortfall values are larger (in absolute terms) than their VaR counterparts."
   ]
  },
  {
   "attachments": {},
   "cell_type": "markdown",
   "metadata": {},
   "source": [
    "### Part (c)\n",
    "\n",
    "Determine the 1\\% and 5\\% value-at-risk (VaR) over the year on the ivnestment.\n",
    "\n",
    "#### Solution\n",
    "\n",
    "In order to answer this queation, we must determine the normal distribution that applies to the 12 month period. Namely, we take advantage of the fact that $E[12X] = 12E[X]$ and $\\sigma' = \\sqrt{12var(X)} = \\sqrt{12}\\sigma$."
   ]
  },
  {
   "cell_type": "code",
   "execution_count": 68,
   "metadata": {},
   "outputs": [
    {
     "name": "stdout",
     "output_type": "stream",
     "text": [
      "Annual VaR (1% and 5%):  [-30722.13  -8034.14]\n"
     ]
    }
   ],
   "source": [
    "# Yearly VaR\n",
    "alpha = [0.01, 0.05]\n",
    "VaR_yearly = W0 * (np.exp(norm.ppf(alpha, 12 * mu_r, np.sqrt(12) * sigma_r)) - 1)\n",
    "print('Annual VaR (1% and 5%): ', np.round(VaR_yearly, 2))"
   ]
  },
  {
   "attachments": {},
   "cell_type": "markdown",
   "metadata": {},
   "source": [
    "Hemce, the loss in investment value that may occur over the next month is \\$30,722.13 and \\$8,034.14 with probabilities 1\\$ and 5\\% respectively."
   ]
  },
  {
   "attachments": {},
   "cell_type": "markdown",
   "metadata": {},
   "source": [
    "### Part (d)\n",
    "\n",
    "Determine the 1% and 5% expected shortfall (ES) over the year on the investment.\n",
    "\n",
    "#### Solution\n",
    "\n",
    "Same concept applies:"
   ]
  },
  {
   "cell_type": "code",
   "execution_count": 66,
   "metadata": {},
   "outputs": [
    {
     "name": "stdout",
     "output_type": "stream",
     "text": [
      "Annual Expected Shortfall (1%):  -39351.7\n",
      "Annual Expected Shortfall (5%):  -21836.39\n"
     ]
    }
   ],
   "source": [
    "# Parameters\n",
    "alpha_5d1 = 0.01\n",
    "alpha_5d2 = 0.05\n",
    "# Functional Form\n",
    "VaR = lambda x: W0 * (np.exp(norm.ppf(x, 12*mu_r, np.sqrt(12)*sigma_r)) - 1)\n",
    "# Integrals\n",
    "es5d1 = integrate.quad(VaR, 0, alpha_5d1)[0] / alpha_5d1\n",
    "es5d2 = integrate.quad(VaR, 0, alpha_5d2)[0] / alpha_5d2\n",
    "print('Annual Expected Shortfall (1%): ', np.round(es5d1,2))\n",
    "print('Annual Expected Shortfall (5%): ', np.round(es5d2,2))"
   ]
  },
  {
   "attachments": {},
   "cell_type": "markdown",
   "metadata": {},
   "source": [
    "As expected, the expecter shortfall values are larger (in absolute terms) than their VaR counterparts."
   ]
  },
  {
   "attachments": {},
   "cell_type": "markdown",
   "metadata": {},
   "source": [
    "## Problem 6\n",
    "\n",
    "In this question, you will examine the chi-square and Student's t distributions.\n",
    "\n",
    "### Part (a)\n",
    "\n",
    "On the same graph, plot the probability density functions of the chi squared distributed random variables with 1, 2, 4, and 10 degrees of freedom. Use different colors and line styles for each curve.\n",
    "\n",
    "#### Solution"
   ]
  },
  {
   "cell_type": "code",
   "execution_count": 76,
   "metadata": {},
   "outputs": [
    {
     "data": {
      "image/png": "[encoded data removed]",
      "text/plain": [
       "<Figure size 720x432 with 1 Axes>"
      ]
     },
     "metadata": {
      "needs_background": "light"
     },
     "output_type": "display_data"
    }
   ],
   "source": [
    "x_vals = np.linspace(0, 20, 101)\n",
    "plt.figure(figsize=(10,6))\n",
    "plt.plot(x_vals, chi2.pdf(x_vals, df = 1),\n",
    "          label = '$df = 1$', color='black')\n",
    "plt.plot(x_vals, chi2.pdf(x_vals, df = 2),\n",
    "          label = '$df = 2$', linestyle='-.', color='b')\n",
    "plt.plot(x_vals, chi2.pdf(x_vals, df = 4),\n",
    "          label = '$df = 4$', linestyle=':', color='r')\n",
    "plt.plot(x_vals, chi2.pdf(x_vals, df = 10), label = '$df = 10$',\n",
    "          linestyle='--', color='g')\n",
    "plt.ylabel('PDF')\n",
    "plt.legend()\n",
    "plt.title('PDF of chi-squared distribution')\n",
    "plt.show()"
   ]
  },
  {
   "attachments": {},
   "cell_type": "markdown",
   "metadata": {},
   "source": [
    "### Part (b)\n",
    "\n",
    "On the same graph, plot the probability density functions of Student's t distributed random variables with 1, 2, 4, and 10 degrees of freedom (d.f). Also include the probability density function for the standard normal distribution. Use different colors and line styles for each curve.\n",
    "\n",
    "#### Solution"
   ]
  },
  {
   "cell_type": "code",
   "execution_count": 84,
   "metadata": {},
   "outputs": [
    {
     "data": {
      "image/png": "[encoded data removed]",
      "text/plain": [
       "<Figure size 720x432 with 1 Axes>"
      ]
     },
     "metadata": {
      "needs_background": "light"
     },
     "output_type": "display_data"
    }
   ],
   "source": [
    "x_vals = np.linspace(-5, 5, 101)\n",
    "plt.figure(figsize=(10,6))\n",
    "plt.plot(x_vals, t.pdf(x_vals, df = 1),\n",
    "          label = '$df = 1$', color = 'black')\n",
    "plt.plot(x_vals, t.pdf(x_vals, df = 2),\n",
    "          label = '$df = 2$', linestyle='-.', color = 'b')\n",
    "plt.plot(x_vals, t.pdf(x_vals, df = 4),\n",
    "          label = '$df = 4$', linestyle=':', color = 'r')\n",
    "plt.plot(x_vals, t.pdf(x_vals, df = 10),\n",
    "          label = '$df = 10$', linestyle='--', color = 'g')\n",
    "plt.plot(x_vals, norm.pdf(x_vals, 0, 1),\n",
    "         label = '$N \\sim (0,1)$', color = 'orange')\n",
    "plt.ylabel('PDF')\n",
    "plt.legend()\n",
    "plt.title('PDF of t-distribution')\n",
    "plt.show()"
   ]
  },
  {
   "attachments": {},
   "cell_type": "markdown",
   "metadata": {},
   "source": [
    "### Part (c)\n",
    "\n",
    "Without doing any calculation, which one do you expect is greater (in absolute value) among the followings:\n",
    "- 5\\% VaR standard normal distribution\n",
    "- 5\\% VaR of t distribution with d.f. 2\n",
    "\n",
    "#### Solution\n",
    "\n",
    "I expect the VaR of the t distribution with 2 degrees of freedom to be larger in abolute terms since it has much thicker tails. Thus, the distribution is more likely to take on values at the extreme ends (namely for our purposes, the low end). Hence, the VaR will have to be greater to account for the higher probability of experiencing these tail events."
   ]
  },
  {
   "attachments": {},
   "cell_type": "markdown",
   "metadata": {},
   "source": [
    "## Problem 7\n",
    "\n",
    "Consider the following joint distribution of $X$ and $Y$:\n",
    "\n",
    "| | | Y | |\n",
    "| --- | :---: | :---: | :---: |\n",
    "| | | -1 | 1|\n",
    "| | - 1| 1/8 | 0 | \n",
    "| X| 0 | 1/8 | 1/8|\n",
    "| | 1 | 1/8 | 3/8 |\n",
    "| | 2 | 0 | 1/8 |"
   ]
  },
  {
   "attachments": {},
   "cell_type": "markdown",
   "metadata": {},
   "source": [
    "### Part (a)\n",
    "\n",
    "Find the marginal distributions of $X$ and $Y$. Using these distributions, compute $E[X]$, $Var(X)$, $SD(X)$, $E[Y]$, $Var(Y)$, and $SD(Y)$.\n",
    "\n",
    "#### Solution\n",
    "\n",
    "The marginal distributions are as follows:\n",
    "\\begin{align*}\n",
    "f_X (X) &= Pr(X=x) = \\sum_{y \\in S_Y} f(x,y) \\\\\n",
    "f_Y (Y) &= Pr(Y=y) = \\sum_{x \\in S_X} f(x,y)\n",
    "\\end{align*}\n",
    "Hence, pulling the values from our table we get:\n",
    "$$f_Y (Y=-1) = 1/8 + 1/8 + 1/8 + 0 = 3/8$$\n",
    "$$f_Y (Y=1) = 0 + 1/8 + 3/8 + 1/8 = 5/8$$\n",
    "and for $X$\n",
    "$$f_X (X=-1) = 1/8 + 0 = 1/8$$\n",
    "$$f_X (X=0) = 1/8 + 1/8 = 2/8$$\n",
    "$$f_X (X=1) = 1/8 + 3/8 = 4/8$$\n",
    "$$f_X (X=2) = 0 + 1/8 = 1/8$$\n",
    "Therefore, we can now compute the above values. Namely,\n",
    "$$E[X] = -1(1/8) + 0(2/8) + 1(4/8) + 2(1/8) = 5/8$$\n",
    "$$Var(X) = 1/8 (-1 - 5/8)^2 + 2/8(-5/8)^2 + 4/8(1-5/8)^2 + 1/8(2-5/8)^2 = \\frac{47}{64}$$\n",
    "$$SD(X) = \\sqrt{Var(X)} = \\sqrt{\\frac{47}{64}}$$\n",
    "Now for $Y$ we have\n",
    "$$E[Y] = -1(3/8) + 1(5/8) = 2/8 = 1/4$$\n",
    "$$Var(Y) = 3/8(-1 - 1/4)^2 + 5/8(1-1/4)^2 = \\frac{120}{128}$$\n",
    "$$SD(Y) = \\sqrt{Var(Y)} = \\sqrt{\\frac{120}{128}}$$"
   ]
  },
  {
   "attachments": {},
   "cell_type": "markdown",
   "metadata": {},
   "source": [
    "### Part (b)\n",
    "\n",
    "Compute $\\operatorname{Cov}(X,Y)$ and $\\operatorname{Corr}(X,Y)$.\n",
    "\n",
    "#### Solution\n",
    "The covariance of $X$ and $Y$ is\n",
    "\\begin{align*}\n",
    "\\operatorname{Cov}(X,Y) &= (-1 - 5/8)(-1 - 2/8)1/8 + (0-5/8)(-1-2/8)1/8 + \\cdots \\\\\n",
    "&+ (1-5/8)(1-2/8)3/8 + (2-5/8)(1-2/8)1/8 = 0.46875\n",
    "\\end{align*}\n",
    "And the Correlation is\n",
    "$$\\operatorname{Cor}(X,Y) = \\frac{\\operatorname{Cov}(X,Y)}{SD(X) \\cdot SD(Y)} = 0.2568$$"
   ]
  },
  {
   "attachments": {},
   "cell_type": "markdown",
   "metadata": {},
   "source": [
    "### Part (c)\n",
    "\n",
    "Are $X$ and $Y$ independent? Justify your answer.\n",
    "\n",
    "#### Solution\n",
    "No, $X$ and $Y$ are not independent.\n",
    "\n",
    "$X$ and $Y$ are independent if and only if\n",
    "$$f(x,y) = f(x)f(y)$$\n",
    "We will show that our two variables are not independent by counter-example. Let us evaluate the distributions at $(X=1, Y=1)$. Hence, we should get\n",
    "$$f(1,1) = f(x=1)f(y=1)$$\n",
    "where\n",
    "$$f(x=1)f(y=1) = \\frac{4}{8} \\cdot \\frac{5}{8} = 5/16$$\n",
    "And by referencing the table, we see that $f(1,1) = 3/8$.\n",
    "Hence,\n",
    "$$f(1,1) = \\frac{3}{8} \\neq \\frac{5}{16} = f(x=1)f(y=1)$$\n",
    "Therefore, the two are not independent."
   ]
  },
  {
   "attachments": {},
   "cell_type": "markdown",
   "metadata": {},
   "source": [
    "### Part (d)\n",
    "\n",
    "Compute the conditional distributions $f(X|Y=1)$ and $f(Y|X=2)$.\n",
    "\n",
    "#### Solution\n",
    "\n",
    "By definition,\n",
    "$$f(x|y) = \\frac{Pr(X=x, Y=y)}{Pr(Y=y)}$$\n",
    "Therefore,\n",
    "$$f(X = -1|Y=1) = \\frac{0}{5/8} = 0$$\n",
    "$$f(X = 0|Y=1) = \\frac{1/8}{5/8} = 1/5$$\n",
    "$$f(X = 1|Y=1) = \\frac{3/8}{5/8} = 3/5$$\n",
    "$$f(X = 2|Y=1) = \\frac{1/8}{5/8} = 1/5$$\n",
    "And for the other\n",
    "$$f(Y= -1 | X=2) = \\frac{0}{1/8} = 0$$\n",
    "$$f(Y= 1 | X=2) = \\frac{1/8}{1/8} = 1$$"
   ]
  },
  {
   "attachments": {},
   "cell_type": "markdown",
   "metadata": {},
   "source": [
    "### Part (e)\n",
    "\n",
    "Compute $E[X|Y=1]$ and $E[Y|X=2]$.\n",
    "\n",
    "#### Solution\n",
    "\n",
    "By definition,\n",
    "$$E[X|Y=y] = \\sum_{x \\in S_X} x \\cdot f(X=x|Y=y)$$\n",
    "And similarly for $Y$. Therefore,\n",
    "$$E[X|Y=1] = -1(0) + 0(1/5) + 1(3/5) + 2(1/5) = 5/5 = 1$$\n",
    "and for the other\n",
    "$$E[Y|X=2] = -1(0) + 1(1) = 1$$"
   ]
  },
  {
   "attachments": {},
   "cell_type": "markdown",
   "metadata": {},
   "source": [
    "### Part (f)\n",
    "\n",
    "Compute $Var[X|Y=1]$ and $Var[Y|X=2]$.\n",
    "\n",
    "#### Solution\n",
    "\n",
    "By definition\n",
    "$$Var(X|Y=y) = \\sum_{x \\in S_X} (x - E[X|Y=y])^2 \\cdot f(X=x|Y=y)$$\n",
    "and similarly for $Y$. Therefore,\n",
    "$$Var(X|Y=1) = (-1 - 1)^2 (0) + (0-1)^2 (1/5) + (1-1)^2(3/5) + (2-1)^2 (1/5) = 2/5$$\n",
    "and for the other\n",
    "$$Var[Y|X=2] = (-1 - 1)^2 (0) + (1-1)^1(1) = 0$$"
   ]
  },
  {
   "attachments": {},
   "cell_type": "markdown",
   "metadata": {},
   "source": [
    "# Part II: Python Exercises\n",
    "\n",
    "Probability of a random variable and its mean and variance can be approximated by simulation. The justification for the accuracy of approximation via\n",
    "simulation is based on the law of large numbers. We will explore the main\n",
    "idea of the simulation approximation in this session.\n",
    "\n",
    "## Problem 1\n",
    "\n",
    "Suppose that $X$ is a normal random variable with mean 0.1\n",
    "and variance 1. Using Monte Carlo simulation to find the probability that\n",
    "$X \\ge 0.5$.\n",
    "\n",
    "#### Solution"
   ]
  },
  {
   "cell_type": "code",
   "execution_count": 91,
   "metadata": {},
   "outputs": [
    {
     "name": "stdout",
     "output_type": "stream",
     "text": [
      "Pr(X >= 0.5):  0.34644\n"
     ]
    }
   ],
   "source": [
    "N_sim = 50000\n",
    "X = norm.rvs(loc = 0.1, scale = 1, size = N_sim, random_state=1) \n",
    "# set the seed 1 for reproducible randomness\n",
    "Y_v = (X >= 0.5) * 1\n",
    "print('Pr(X >= 0.5): ', np.mean(Y_v))"
   ]
  },
  {
   "attachments": {},
   "cell_type": "markdown",
   "metadata": {},
   "source": [
    "## Problem 2\n",
    "\n",
    "Consider the following game that you play with your friend.\n",
    "There is a referee who will flip a coin. You and your friend will guess the\n",
    "outcome (Head or Tail) of this random experiment. If your guess is the same\n",
    "as your friend, you lose \\$3 if the guess is Head and you lose \\$1 if your guess\n",
    "is Tail. If your guess is different from your friend, you win \\$2. Suppose that\n",
    "both you and your friend think that the probability of observing Head is 1/2.\n",
    "What is the expectation of the money you will win from this game?\n",
    "\n",
    "#### Solution"
   ]
  },
  {
   "cell_type": "code",
   "execution_count": 93,
   "metadata": {},
   "outputs": [
    {
     "name": "stdout",
     "output_type": "stream",
     "text": [
      "Expected Profit:  0.00234\n"
     ]
    }
   ],
   "source": [
    "N_sim = 50000\n",
    "X = binom.rvs(n = 1, p = 0.5, size = N_sim, random_state = 1)\n",
    "Y = binom.rvs(n = 1, p = 0.5, size = N_sim, random_state = 10)\n",
    "\n",
    "def profit(x, y):\n",
    "    ans = 0\n",
    "    if x == 1 and y == 1:\n",
    "        ans = -3\n",
    "    elif x == 0 and y == 0:\n",
    "        ans = -1\n",
    "    else:\n",
    "        ans = 2\n",
    "    return ans\n",
    "\n",
    "profit_func = np.vectorize(profit) # handle vector inputs\n",
    "\n",
    "Z_v = profit_func(X, Y) # record the money you get from each experiment\n",
    "print('Expected Profit: ', np.mean(Z_v))"
   ]
  },
  {
   "attachments": {},
   "cell_type": "markdown",
   "metadata": {},
   "source": [
    "## Problem 3\n",
    "\n",
    "Consider the game described in Problem 2. But now, you play a\n",
    "different strategy. Instead of guessing Head or Tail with probability 1/2, you\n",
    "guess Head with probability 0.36, and Tail with probability 0.64. Suppose\n",
    "that your friend still guess Head and Tail with probability 1/2. What is the\n",
    "expectation of the money you will win from this game?\n",
    "\n",
    "#### Solution"
   ]
  },
  {
   "cell_type": "code",
   "execution_count": 94,
   "metadata": {},
   "outputs": [
    {
     "name": "stdout",
     "output_type": "stream",
     "text": [
      "Expected Profit:  0.14194\n"
     ]
    }
   ],
   "source": [
    "N_sim = 50000\n",
    "X = binom.rvs(n = 1, p = 0.36, size = N_sim, random_state = 1)\n",
    "Y = binom.rvs(n = 1, p = 0.5, size = N_sim, random_state = 10)\n",
    "Z_v = profit_func(X, Y) # record the money you get from each experiment\n",
    "        \n",
    "print('Expected Profit: ', np.mean(Z_v))"
   ]
  },
  {
   "attachments": {},
   "cell_type": "markdown",
   "metadata": {},
   "source": [
    "## Problem 4\n",
    "\n",
    "Consider the game described in Problem 2. Mathematically,\n",
    "we can show that your strategy in Problem 3 guarantees that you will win\n",
    "money from your friend regardless the guess of your friend if you play the\n",
    "game many times with your friend. That is we can show that the expectation\n",
    "of the money you get from the game is positive regardless of you friend's\n",
    "guess. Check this by simulation!\n",
    "\n",
    "#### Solution"
   ]
  },
  {
   "cell_type": "code",
   "execution_count": 97,
   "metadata": {},
   "outputs": [
    {
     "name": "stdout",
     "output_type": "stream",
     "text": [
      "Expected Profits:\n",
      "[0.07568 0.07692 0.0779  0.08252 0.08088 0.0881  0.08608 0.08092 0.08604\n",
      " 0.08654 0.07976 0.08048 0.0865  0.0878  0.0828  0.09966 0.10038 0.09754\n",
      " 0.09264 0.09964 0.09892 0.09678 0.10716 0.1001  0.10836 0.11574 0.10892\n",
      " 0.1167  0.11178 0.11872 0.12756 0.12002 0.1141  0.11654 0.1299  0.1192\n",
      " 0.13954 0.12296 0.13088 0.13094 0.1291  0.11108 0.1314  0.12722 0.1283\n",
      " 0.13556 0.12418 0.12986 0.13968 0.14028 0.15914 0.136   0.14826 0.13716\n",
      " 0.15452 0.14318 0.14976 0.15138 0.16576 0.15398 0.139   0.14276 0.16414\n",
      " 0.16048 0.14772 0.1601  0.17004 0.16956 0.17302 0.15244 0.15982 0.16982\n",
      " 0.15604 0.17482 0.16486 0.16844 0.16764 0.1664  0.15844 0.18932 0.16636\n",
      " 0.1749  0.1768  0.18638 0.17554 0.18484 0.19058 0.18788 0.1954  0.18704\n",
      " 0.19606 0.1964  0.19098 0.1971  0.20728 0.1955  0.20482 0.20784 0.2054\n",
      " 0.2066  0.2072 ]\n"
     ]
    }
   ],
   "source": [
    "N_sim = 50000\n",
    "p = np.linspace(0, 1, 101) # probs that your friend guesses head\n",
    "np.random.seed(10)\n",
    "X = binom.rvs(n = 1, p = 0.36, size = N_sim)\n",
    "Y = np.zeros((N_sim, 101))\n",
    "Z_v = np.zeros((N_sim, 101)) # record the money you get from each experiment\n",
    "\n",
    "for i in range(101):\n",
    "    Y[:, i] = binom.rvs(n = 1, p = p[i], size = N_sim)\n",
    "    Z_v[:, i] = profit_func(X, Y[:, i])\n",
    "    \n",
    "print('Expected Profits:')\n",
    "print(Z_v.mean(0)) # note that all the values are postive"
   ]
  },
  {
   "attachments": {},
   "cell_type": "markdown",
   "metadata": {},
   "source": [
    "In this case, the simulation shows that all the profit values are positive. Hence, we show that with the strategy in Problem 3, we are guaranteed to have a positive expected profit if we play the game many times."
   ]
  }
 ],
 "metadata": {
  "kernelspec": {
   "display_name": "base",
   "language": "python",
   "name": "python3"
  },
  "language_info": {
   "codemirror_mode": {
    "name": "ipython",
    "version": 3
   },
   "file_extension": ".py",
   "mimetype": "text/x-python",
   "name": "python",
   "nbconvert_exporter": "python",
   "pygments_lexer": "ipython3",
   "version": "3.9.12"
  },
  "orig_nbformat": 4,
  "vscode": {
   "interpreter": {
    "hash": "31df7c7627a67be450e0b97ef203135bae9a88aae24921ec8b8b14d7d7918e04"
   }
  }
 },
 "nbformat": 4,
 "nbformat_minor": 2
}
